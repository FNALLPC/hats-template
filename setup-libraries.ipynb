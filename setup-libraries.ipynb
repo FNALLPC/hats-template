{
 "cells": [
  {
   "cell_type": "markdown",
   "metadata": {},
   "source": [
    "Setup Instructions\n",
    "==========\n",
    "\n",
    "**note to facilitators** - the location/method of producing the venv might differ (venv/conda/CMSSW/etc...). The important part is that the name of the kernel matches what is configured in the notebook.\n",
    "\n",
    "These instructions need to be run once to load the requisite libraries for the tutorial.\n",
    "\n",
    "Jupyter has the concept of _kernels_, which are independent execution environments. They don't\n",
    "even have to be Python, kernels for other languages exist as well.\n",
    "\n",
    "By loading a separate kernel for each project, we avoid the complication of different\n",
    "components/projects having weird interactions, ultimately helping reproducibility.\n",
    "\n",
    "We first produce a new virtualenv with the libraries we require, then we teach Jupyter\n",
    "about this new environment with the ipython executable"
   ]
  },
  {
   "cell_type": "code",
   "execution_count": null,
   "metadata": {
    "scrolled": true
   },
   "outputs": [],
   "source": [
    "%%bash\n",
    "python2 -m virtualenv hats-template\n",
    "source hats-template/bin/activate\n",
    "which pip\n",
    "pip install ipykernel numpy==1.14.3\n",
    "ipython kernel install --user --name=hats-template"
   ]
  },
  {
   "cell_type": "markdown",
   "metadata": {},
   "source": [
    "Results\n",
    "=======\n",
    "\n",
    "If successful, you should see something similar to the following:\n",
    "\n",
    "```\n",
    "New python executable in /home/meloam/hats-template/hats-template/bin/python2\n",
    "Also creating executable in /home/meloam/hats-template/hats-template/bin/python\n",
    "Installing setuptools, pip, wheel...done.\n",
    "/home/meloam/hats-template/hats-template/bin/pip\n",
    "Collecting numpy==1.14.3\n",
    "  Using cached https://files.pythonhosted.org/packages/c0/e7/08f059a00367fd613e4f2875a16c70b6237268a1d6d166c6d36acada8301/numpy-1.14.3-cp27-cp27mu-manylinux1_x86_64.whl\n",
    "<snip>\n",
    "Installed kernelspec hats-template in /home/meloam/.local/share/jupyter/kernels/hats-template\n",
    "```\n",
    "\n",
    "The new kernel you just made will then show up in the various Jupyter dropdowns, allowing you to use it for different notebooks"
   ]
  },
  {
   "cell_type": "code",
   "execution_count": null,
   "metadata": {},
   "outputs": [],
   "source": []
  }
 ],
 "metadata": {
  "kernelspec": {
   "display_name": "Python 2",
   "language": "python",
   "name": "python2"
  },
  "language_info": {
   "codemirror_mode": {
    "name": "ipython",
    "version": 2
   },
   "file_extension": ".py",
   "mimetype": "text/x-python",
   "name": "python",
   "nbconvert_exporter": "python",
   "pygments_lexer": "ipython2",
   "version": "2.7.5"
  }
 },
 "nbformat": 4,
 "nbformat_minor": 2
}
